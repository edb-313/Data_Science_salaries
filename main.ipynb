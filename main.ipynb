{
 "cells": [
  {
   "cell_type": "code",
   "execution_count": 1,
   "id": "d4f621c0",
   "metadata": {},
   "outputs": [],
   "source": [
    "import pandas as pd\n",
    "import numpy as np\n",
    "\n",
    "url1 = 'https://raw.githubusercontent.com/foorilla/freshremote-work-salaries/main/salaries.csv'\n",
    "url2 = 'https://raw.githubusercontent.com/edb-313/BDTA-Project/main/Data/Salaries.csv'\n",
    "\n",
    "df = pd.concat([pd.read_csv(url1),pd.read_csv(url2)])"
   ]
  },
  {
   "cell_type": "markdown",
   "id": "f9581d4d",
   "metadata": {},
   "source": [
    "# Data Cleaning"
   ]
  },
  {
   "cell_type": "code",
   "execution_count": 2,
   "id": "f31f1ada",
   "metadata": {
    "scrolled": true
   },
   "outputs": [],
   "source": [
    "# Define the keywords to filter for\n",
    "keywords = ['Data', 'Machine learning','AI']\n",
    "\n",
    "# Join the keywords into a single string separated by pipe characters\n",
    "keywords_str = '|'.join(keywords)\n",
    "\n",
    "# Filter the 'job_title' column for rows containing the keywords\n",
    "df = df[df['job_title'].str.contains(keywords_str)]"
   ]
  },
  {
   "cell_type": "code",
   "execution_count": 3,
   "id": "6efb035d",
   "metadata": {},
   "outputs": [],
   "source": [
    "#removing duplicates if there are\n",
    "df = df.drop_duplicates()"
   ]
  },
  {
   "cell_type": "code",
   "execution_count": 4,
   "id": "3581f80f",
   "metadata": {},
   "outputs": [],
   "source": [
    "#Only fulltime employees (FT)\n",
    "df = df[df['employment_type'] == \"FT\"]"
   ]
  },
  {
   "cell_type": "code",
   "execution_count": 5,
   "id": "5463e45e",
   "metadata": {},
   "outputs": [],
   "source": [
    "#remove unneccesary columns\n",
    "df = df.drop(['salary','salary_currency','Unnamed: 0','employment_type'],axis = 1)"
   ]
  },
  {
   "cell_type": "code",
   "execution_count": 6,
   "id": "5a6846bd",
   "metadata": {},
   "outputs": [],
   "source": [
    "#resetting the index\n",
    "df = df.reset_index(drop=True)"
   ]
  },
  {
   "cell_type": "code",
   "execution_count": 7,
   "id": "968228d2",
   "metadata": {},
   "outputs": [],
   "source": [
    "#grouping Job titles into Job Groups\n",
    "i = 0\n",
    "for t in df['job_title']:\n",
    "    if 'Analyst' in t or 'Analytics' in t:\n",
    "        df.at[i,'job_group'] = 'Data Analyst'\n",
    "    elif 'Learning' in t or 'AI' in t:\n",
    "        df.at[i,'job_group'] = 'Machine Learning'\n",
    "    elif 'Engineer' in t or 'ETL' in t:\n",
    "        df.at[i,'job_group'] = 'Data Engineer'\n",
    "    elif 'Science' in t or 'Scientist' in t:\n",
    "        df.at[i,'job_group'] = 'Data Science'\n",
    "    elif 'Architect' in t:\n",
    "        df.at[i,'job_group'] = 'Data Architect'\n",
    "    else:\n",
    "        df.at[i,'job_group'] = 'Head of Data'\n",
    "    i += 1"
   ]
  },
  {
   "cell_type": "code",
   "execution_count": 8,
   "id": "29f5dbe4",
   "metadata": {
    "scrolled": true
   },
   "outputs": [
    {
     "data": {
      "text/html": [
       "<div>\n",
       "<style scoped>\n",
       "    .dataframe tbody tr th:only-of-type {\n",
       "        vertical-align: middle;\n",
       "    }\n",
       "\n",
       "    .dataframe tbody tr th {\n",
       "        vertical-align: top;\n",
       "    }\n",
       "\n",
       "    .dataframe thead th {\n",
       "        text-align: right;\n",
       "    }\n",
       "</style>\n",
       "<table border=\"1\" class=\"dataframe\">\n",
       "  <thead>\n",
       "    <tr style=\"text-align: right;\">\n",
       "      <th></th>\n",
       "      <th>work_year</th>\n",
       "      <th>experience_level</th>\n",
       "      <th>job_title</th>\n",
       "      <th>salary_in_usd</th>\n",
       "      <th>employee_residence</th>\n",
       "      <th>remote_ratio</th>\n",
       "      <th>company_location</th>\n",
       "      <th>company_size</th>\n",
       "      <th>job_group</th>\n",
       "    </tr>\n",
       "  </thead>\n",
       "  <tbody>\n",
       "    <tr>\n",
       "      <th>0</th>\n",
       "      <td>2022</td>\n",
       "      <td>MI</td>\n",
       "      <td>Data Analyst</td>\n",
       "      <td>200000</td>\n",
       "      <td>FR</td>\n",
       "      <td>100</td>\n",
       "      <td>US</td>\n",
       "      <td>L</td>\n",
       "      <td>Data Analyst</td>\n",
       "    </tr>\n",
       "    <tr>\n",
       "      <th>1</th>\n",
       "      <td>2022</td>\n",
       "      <td>SE</td>\n",
       "      <td>Data Engineer</td>\n",
       "      <td>220000</td>\n",
       "      <td>US</td>\n",
       "      <td>100</td>\n",
       "      <td>US</td>\n",
       "      <td>M</td>\n",
       "      <td>Data Engineer</td>\n",
       "    </tr>\n",
       "    <tr>\n",
       "      <th>2</th>\n",
       "      <td>2022</td>\n",
       "      <td>SE</td>\n",
       "      <td>Data Engineer</td>\n",
       "      <td>146000</td>\n",
       "      <td>US</td>\n",
       "      <td>100</td>\n",
       "      <td>US</td>\n",
       "      <td>M</td>\n",
       "      <td>Data Engineer</td>\n",
       "    </tr>\n",
       "    <tr>\n",
       "      <th>3</th>\n",
       "      <td>2022</td>\n",
       "      <td>SE</td>\n",
       "      <td>Data Engineer</td>\n",
       "      <td>144000</td>\n",
       "      <td>US</td>\n",
       "      <td>100</td>\n",
       "      <td>US</td>\n",
       "      <td>M</td>\n",
       "      <td>Data Engineer</td>\n",
       "    </tr>\n",
       "    <tr>\n",
       "      <th>4</th>\n",
       "      <td>2022</td>\n",
       "      <td>SE</td>\n",
       "      <td>Data Engineer</td>\n",
       "      <td>216000</td>\n",
       "      <td>US</td>\n",
       "      <td>100</td>\n",
       "      <td>US</td>\n",
       "      <td>M</td>\n",
       "      <td>Data Engineer</td>\n",
       "    </tr>\n",
       "    <tr>\n",
       "      <th>...</th>\n",
       "      <td>...</td>\n",
       "      <td>...</td>\n",
       "      <td>...</td>\n",
       "      <td>...</td>\n",
       "      <td>...</td>\n",
       "      <td>...</td>\n",
       "      <td>...</td>\n",
       "      <td>...</td>\n",
       "      <td>...</td>\n",
       "    </tr>\n",
       "    <tr>\n",
       "      <th>1202</th>\n",
       "      <td>2022</td>\n",
       "      <td>SE</td>\n",
       "      <td>Data Engineer</td>\n",
       "      <td>154000</td>\n",
       "      <td>US</td>\n",
       "      <td>100</td>\n",
       "      <td>US</td>\n",
       "      <td>M</td>\n",
       "      <td>Data Engineer</td>\n",
       "    </tr>\n",
       "    <tr>\n",
       "      <th>1203</th>\n",
       "      <td>2022</td>\n",
       "      <td>SE</td>\n",
       "      <td>Data Engineer</td>\n",
       "      <td>126000</td>\n",
       "      <td>US</td>\n",
       "      <td>100</td>\n",
       "      <td>US</td>\n",
       "      <td>M</td>\n",
       "      <td>Data Engineer</td>\n",
       "    </tr>\n",
       "    <tr>\n",
       "      <th>1204</th>\n",
       "      <td>2022</td>\n",
       "      <td>SE</td>\n",
       "      <td>Data Analyst</td>\n",
       "      <td>129000</td>\n",
       "      <td>US</td>\n",
       "      <td>0</td>\n",
       "      <td>US</td>\n",
       "      <td>M</td>\n",
       "      <td>Data Analyst</td>\n",
       "    </tr>\n",
       "    <tr>\n",
       "      <th>1205</th>\n",
       "      <td>2022</td>\n",
       "      <td>SE</td>\n",
       "      <td>Data Analyst</td>\n",
       "      <td>150000</td>\n",
       "      <td>US</td>\n",
       "      <td>100</td>\n",
       "      <td>US</td>\n",
       "      <td>M</td>\n",
       "      <td>Data Analyst</td>\n",
       "    </tr>\n",
       "    <tr>\n",
       "      <th>1206</th>\n",
       "      <td>2022</td>\n",
       "      <td>MI</td>\n",
       "      <td>AI Scientist</td>\n",
       "      <td>200000</td>\n",
       "      <td>IN</td>\n",
       "      <td>100</td>\n",
       "      <td>US</td>\n",
       "      <td>L</td>\n",
       "      <td>Machine Learning</td>\n",
       "    </tr>\n",
       "  </tbody>\n",
       "</table>\n",
       "<p>1207 rows × 9 columns</p>\n",
       "</div>"
      ],
      "text/plain": [
       "      work_year experience_level      job_title  salary_in_usd  \\\n",
       "0          2022               MI   Data Analyst         200000   \n",
       "1          2022               SE  Data Engineer         220000   \n",
       "2          2022               SE  Data Engineer         146000   \n",
       "3          2022               SE  Data Engineer         144000   \n",
       "4          2022               SE  Data Engineer         216000   \n",
       "...         ...              ...            ...            ...   \n",
       "1202       2022               SE  Data Engineer         154000   \n",
       "1203       2022               SE  Data Engineer         126000   \n",
       "1204       2022               SE   Data Analyst         129000   \n",
       "1205       2022               SE   Data Analyst         150000   \n",
       "1206       2022               MI   AI Scientist         200000   \n",
       "\n",
       "     employee_residence  remote_ratio company_location company_size  \\\n",
       "0                    FR           100               US            L   \n",
       "1                    US           100               US            M   \n",
       "2                    US           100               US            M   \n",
       "3                    US           100               US            M   \n",
       "4                    US           100               US            M   \n",
       "...                 ...           ...              ...          ...   \n",
       "1202                 US           100               US            M   \n",
       "1203                 US           100               US            M   \n",
       "1204                 US             0               US            M   \n",
       "1205                 US           100               US            M   \n",
       "1206                 IN           100               US            L   \n",
       "\n",
       "             job_group  \n",
       "0         Data Analyst  \n",
       "1        Data Engineer  \n",
       "2        Data Engineer  \n",
       "3        Data Engineer  \n",
       "4        Data Engineer  \n",
       "...                ...  \n",
       "1202     Data Engineer  \n",
       "1203     Data Engineer  \n",
       "1204      Data Analyst  \n",
       "1205      Data Analyst  \n",
       "1206  Machine Learning  \n",
       "\n",
       "[1207 rows x 9 columns]"
      ]
     },
     "execution_count": 8,
     "metadata": {},
     "output_type": "execute_result"
    }
   ],
   "source": [
    "df"
   ]
  },
  {
   "cell_type": "markdown",
   "id": "1753f7b5",
   "metadata": {},
   "source": [
    "# Data Visualizations"
   ]
  },
  {
   "cell_type": "markdown",
   "id": "d0bc211d",
   "metadata": {},
   "source": [
    "#### 1. Rank in descending order the average salary of Data Scientists by country (regardless of job title and experience level)"
   ]
  },
  {
   "cell_type": "code",
   "execution_count": 9,
   "id": "65ff9df0",
   "metadata": {
    "scrolled": true
   },
   "outputs": [
    {
     "data": {
      "text/plain": [
       "US    791\n",
       "GB     85\n",
       "CA     49\n",
       "DE     43\n",
       "IN     40\n",
       "ES     30\n",
       "FR     28\n",
       "GR     18\n",
       "AU      8\n",
       "AT      7\n",
       "BR      7\n",
       "PL      6\n",
       "TR      6\n",
       "PT      6\n",
       "SG      5\n",
       "MX      5\n",
       "NG      4\n",
       "LU      4\n",
       "NL      4\n",
       "DK      4\n",
       "PK      3\n",
       "JP      3\n",
       "CL      3\n",
       "NZ      3\n",
       "RU      3\n",
       "AS      3\n",
       "HU      3\n",
       "MT      2\n",
       "KE      2\n",
       "RO      2\n",
       "UA      2\n",
       "IL      2\n",
       "AR      2\n",
       "EE      2\n",
       "SI      2\n",
       "BE      2\n",
       "PR      2\n",
       "CH      2\n",
       "MY      2\n",
       "AE      1\n",
       "IR      1\n",
       "MD      1\n",
       "HN      1\n",
       "DZ      1\n",
       "IE      1\n",
       "IT      1\n",
       "CZ      1\n",
       "ID      1\n",
       "PH      1\n",
       "SK      1\n",
       "VN      1\n",
       "Name: company_location, dtype: int64"
      ]
     },
     "execution_count": 9,
     "metadata": {},
     "output_type": "execute_result"
    }
   ],
   "source": [
    "country_counts = df['company_location'].value_counts()\n",
    "country_counts"
   ]
  },
  {
   "cell_type": "code",
   "execution_count": 10,
   "id": "b3b1750a",
   "metadata": {},
   "outputs": [],
   "source": [
    "# Filter the dataframe to keep only the rows for countries_to_keep\n",
    "df_country_count = df[df['company_location'].isin(country_counts[country_counts >= 10].index)]"
   ]
  },
  {
   "cell_type": "code",
   "execution_count": 11,
   "id": "4461ef06",
   "metadata": {},
   "outputs": [],
   "source": [
    "# Calculate the average salary by country and sort in descending order\n",
    "avg_salary_country = df_country_count.groupby('company_location')['salary_in_usd'].mean().sort_values(ascending=True)"
   ]
  },
  {
   "cell_type": "code",
   "execution_count": 12,
   "id": "42bfaaa7",
   "metadata": {},
   "outputs": [
    {
     "data": {
      "text/plain": [
       "Text(0.5, 1.0, 'Top 5 Countries with Highest Average Salary for Data Scientists')"
      ]
     },
     "execution_count": 12,
     "metadata": {},
     "output_type": "execute_result"
    },
    {
     "data": {
      "image/png": "[encoded data removed]",
      "text/plain": [
       "<Figure size 1000x700 with 1 Axes>"
      ]
     },
     "metadata": {},
     "output_type": "display_data"
    }
   ],
   "source": [
    "import numpy as np\n",
    "import matplotlib.pyplot as plt\n",
    "\n",
    "# Create a horizontal bar plot\n",
    "fig, ax = plt.subplots(figsize=(10, 7))\n",
    "ax.barh(avg_salary_country.index, avg_salary_country.values, color='c')\n",
    "\n",
    "# Set the x-axis label\n",
    "ax.set_xlabel('Average Salary')\n",
    "\n",
    "# Set the title of the plot\n",
    "ax.set_title('Top 5 Countries with Highest Average Salary for Data Scientists')\n"
   ]
  },
  {
   "cell_type": "markdown",
   "id": "70ed32a1",
   "metadata": {},
   "source": [
    "#### 2. Rank in descending order the average salary of Data Scientists by job title & job group "
   ]
  },
  {
   "cell_type": "code",
   "execution_count": 13,
   "id": "fdd1699a",
   "metadata": {},
   "outputs": [
    {
     "data": {
      "text/plain": [
       "Data Engineer                    321\n",
       "Data Scientist                   318\n",
       "Data Analyst                     214\n",
       "Data Science Manager              39\n",
       "Data Architect                    36\n",
       "BI Data Analyst                   18\n",
       "AI Scientist                      16\n",
       "Data Science Consultant           15\n",
       "Big Data Engineer                 15\n",
       "Data Analytics Manager            13\n",
       "Business Data Analyst             13\n",
       "Director of Data Science          12\n",
       "Lead Data Engineer                11\n",
       "Principal Data Scientist          11\n",
       "Database Reliability Engineer     10\n",
       "Head of Data                      10\n",
       "Data Engineering Manager          10\n",
       "Applied Data Scientist            10\n",
       "Data Analytics Engineer            9\n",
       "Lead Data Scientist                8\n",
       "Data Specialist                    7\n",
       "Database Administrator             7\n",
       "Head of Data Science               6\n",
       "Data Science Engineer              6\n",
       "Lead Data Analyst                  6\n",
       "Cloud Data Engineer                5\n",
       "Principal Data Engineer            5\n",
       "Director of Data Engineering       4\n",
       "Product Data Analyst               4\n",
       "Principal Data Analyst             4\n",
       "Financial Data Analyst             4\n",
       "Data Manager                       3\n",
       "Data Entry                         3\n",
       "Marketing Data Analyst             3\n",
       "Data Operations Engineer           2\n",
       "Data Analytics Lead                2\n",
       "Data Operations Analyst            2\n",
       "Data Scientist Lead                2\n",
       "Big Data Architect                 2\n",
       "Finance Data Analyst               2\n",
       "Databricks Engineer                2\n",
       "Data Security Analyst              2\n",
       "Data Visualization Engineer        2\n",
       "Database Engineer                  2\n",
       "Data Platform Engineer             1\n",
       "Data Entry Clerk                   1\n",
       "Data Quality Analyst               1\n",
       "Data Infrastructure Engineer       1\n",
       "Data Science Lead                  1\n",
       "Cloud Data Architect               1\n",
       "Data Analytics Consultant          1\n",
       "Data Science Tech Lead             1\n",
       "Principal Data Architect           1\n",
       "Product Data Scientist             1\n",
       "Manager Data Science               1\n",
       "Name: job_title, dtype: int64"
      ]
     },
     "execution_count": 13,
     "metadata": {},
     "output_type": "execute_result"
    }
   ],
   "source": [
    "titles_count = df['job_title'].value_counts()\n",
    "titles_count"
   ]
  },
  {
   "cell_type": "code",
   "execution_count": 14,
   "id": "98e7e986",
   "metadata": {},
   "outputs": [
    {
     "ename": "NameError",
     "evalue": "name 'titles_counts' is not defined",
     "output_type": "error",
     "traceback": [
      "\u001b[1;31m---------------------------------------------------------------------------\u001b[0m",
      "\u001b[1;31mNameError\u001b[0m                                 Traceback (most recent call last)",
      "\u001b[1;32m~\\AppData\\Local\\Temp\\ipykernel_17028\\59028333.py\u001b[0m in \u001b[0;36m<module>\u001b[1;34m\u001b[0m\n\u001b[0;32m      1\u001b[0m \u001b[1;31m# Filter the dataframe to keep only the titles that appear 5 or more times\u001b[0m\u001b[1;33m\u001b[0m\u001b[1;33m\u001b[0m\u001b[0m\n\u001b[1;32m----> 2\u001b[1;33m \u001b[0mdf_titles_count\u001b[0m \u001b[1;33m=\u001b[0m \u001b[0mdf\u001b[0m\u001b[1;33m[\u001b[0m\u001b[0mdf\u001b[0m\u001b[1;33m[\u001b[0m\u001b[1;34m'job_title'\u001b[0m\u001b[1;33m]\u001b[0m\u001b[1;33m.\u001b[0m\u001b[0misin\u001b[0m\u001b[1;33m(\u001b[0m\u001b[0mtitles_counts\u001b[0m\u001b[1;33m[\u001b[0m\u001b[0mtitles_counts\u001b[0m \u001b[1;33m>=\u001b[0m \u001b[1;36m5\u001b[0m\u001b[1;33m]\u001b[0m\u001b[1;33m.\u001b[0m\u001b[0mindex\u001b[0m\u001b[1;33m)\u001b[0m\u001b[1;33m]\u001b[0m\u001b[1;33m\u001b[0m\u001b[1;33m\u001b[0m\u001b[0m\n\u001b[0m",
      "\u001b[1;31mNameError\u001b[0m: name 'titles_counts' is not defined"
     ]
    }
   ],
   "source": [
    "# Filter the dataframe to keep only the titles that appear 5 or more times\n",
    "df_titles_count = df[df['job_title'].isin(titles_counts[titles_counts >= 5].index)]"
   ]
  },
  {
   "cell_type": "code",
   "execution_count": null,
   "id": "8b31d404",
   "metadata": {},
   "outputs": [],
   "source": [
    "avg_salary_title = df_titles_count.groupby('job_title')['salary_in_usd'].mean().sort_values(ascending=True)\n",
    "\n",
    "# Select the top 10 titles with the highest average salary\n",
    "top_10_titles = avg_salary_title[:9]\n",
    "\n",
    "# Create a horizontal bar plot\n",
    "fig, ax = plt.subplots(figsize=(10, 7))\n",
    "ax.barh(top_10_titles.index, top_10_titles.values, color=['blue','red','red','red','black','red','red','yellow','blue'])\n",
    "\n",
    "#ax.legend(['blue', 'red', 'yellow','black'], ['Engineer', 'Data Scientist', 'Head of Data','Data Architect'])\n",
    "# Set the x-axis label\n",
    "ax.set_xlabel('Average Salary')\n",
    "\n",
    "# Set the title of the plot\n",
    "ax.set_title('Top 10 titles with Highest Average Salary')\n"
   ]
  },
  {
   "cell_type": "code",
   "execution_count": null,
   "id": "ecead01d",
   "metadata": {},
   "outputs": [],
   "source": [
    "group_count = df['job_group'].value_counts()\n",
    "group_count"
   ]
  },
  {
   "cell_type": "code",
   "execution_count": null,
   "id": "7c64c925",
   "metadata": {},
   "outputs": [],
   "source": [
    "avg_salary_group = df.groupby('job_group')['salary_in_usd'].mean().sort_values(ascending=True)\n",
    "\n",
    "# Create a horizontal bar plot\n",
    "fig, ax = plt.subplots(figsize=(10, 7))\n",
    "ax.barh(avg_salary_group.index, avg_salary_group.values, color=['blue'])\n",
    "\n",
    "# Set the x-axis label\n",
    "ax.set_xlabel('Average Salary')\n",
    "\n",
    "# Set the title of the plot\n",
    "ax.set_title('Groups with Highest Average Salary')\n"
   ]
  },
  {
   "cell_type": "markdown",
   "id": "cd2d6a6a",
   "metadata": {},
   "source": [
    "#### Does the company size affect the average salary (keeping the same experience level and job title)?"
   ]
  },
  {
   "cell_type": "code",
   "execution_count": null,
   "id": "988df408",
   "metadata": {},
   "outputs": [],
   "source": [
    "size_counts = df['company_size'].value_counts()\n",
    "\n",
    "# Print the resulting count for each country\n",
    "print(size_counts)"
   ]
  },
  {
   "cell_type": "code",
   "execution_count": null,
   "id": "4466eac2",
   "metadata": {},
   "outputs": [],
   "source": [
    "size_mapping = {'S': 1, 'M': 2, 'L': 3}\n",
    "df['company_size_num'] = df['company_size'].map(size_mapping)\n",
    "\n",
    "# Calculate the correlation coefficient between company size and salary\n",
    "correlation = df['company_size_num'].corr(df['salary'])\n",
    "\n",
    "print('Correlation between company size and salary:', correlation)\n"
   ]
  },
  {
   "cell_type": "code",
   "execution_count": null,
   "id": "50ab455c",
   "metadata": {},
   "outputs": [],
   "source": [
    "avg_salary_size = df.groupby('company_size_num')['salary'].mean()\n",
    "\n",
    "# Create a bar chart of average salary by company size\n",
    "fig, ax = plt.subplots(figsize=(10, 7))\n",
    "ax.bar(avg_salary_size.index, avg_salary_size.values, color='teal')\n",
    "\n",
    "# Set the x-axis label\n",
    "ax.set_xlabel('Company Size')\n",
    "ax.set_xticks([1, 2, 3])\n",
    "ax.set_xticklabels(['S', 'M', 'L'])\n",
    "\n",
    "# Set the y-axis label\n",
    "ax.set_ylabel('Average Salary')\n",
    "# Set the title of the plot\n",
    "ax.set_title('Average Salary by Company Size for Data Scientists')\n",
    "\n",
    "\n",
    "# Show the plot\n",
    "plt.show()"
   ]
  },
  {
   "cell_type": "code",
   "execution_count": null,
   "id": "bd80758c",
   "metadata": {},
   "outputs": [],
   "source": [
    "# Count the number of companies in each size category\n",
    "size_counts = df['company_size'].value_counts()\n",
    "# Calculate the total number of companies\n",
    "total_companies = size_counts.sum()\n",
    "\n",
    "# Calculate the percentage of companies in each size category\n",
    "percent_small = size_counts['S'] / total_companies * 100\n",
    "percent_medium = size_counts['M'] / total_companies * 100\n",
    "percent_large = size_counts['L'] / total_companies * 100\n",
    "# Round the percentages to two decimal places and add the percent sign\n",
    "percent_small_formatted = '{:.2f}%'.format(round(percent_small, 2))\n",
    "percent_medium_formatted = '{:.2f}%'.format(round(percent_medium, 2))\n",
    "percent_large_formatted = '{:.2f}%'.format(round(percent_large, 2))\n",
    "\n",
    "# Print the results\n",
    "print('Percentage of companies that are small:', percent_small_formatted)\n",
    "print('Percentage of companies that are medium:', percent_medium_formatted)\n",
    "print('Percentage of companies that are large:', percent_large_formatted)"
   ]
  },
  {
   "cell_type": "code",
   "execution_count": null,
   "id": "d053151c",
   "metadata": {},
   "outputs": [],
   "source": [
    "# Calculate the mean remote work ratio by job title\n",
    "remote_work_ratio = df.groupby('job_title')['remote_ratio'].mean()\n",
    "\n",
    "# Sort the results in descending order\n",
    "remote_work_ratio_sorted = remote_work_ratio.sort_values(ascending=False)\n",
    "\n",
    "# Print the results\n",
    "print(remote_work_ratio_sorted)"
   ]
  },
  {
   "cell_type": "code",
   "execution_count": null,
   "id": "7a6eee49",
   "metadata": {},
   "outputs": [],
   "source": [
    "\n",
    "# Create a horizontal bar plot\n",
    "fig, ax = plt.subplots(figsize=(12, 10))\n",
    "ax.barh(remote_work_ratio_sorted.index, remote_work_ratio_sorted)\n",
    "\n",
    "# Set the title and labels\n",
    "ax.set_title('Remote Work Ratio by Job Title')\n",
    "ax.set_xlabel('Remote Work Ratio (%)')\n",
    "ax.set_ylabel('Job Title')\n",
    "\n",
    "#add legend\n",
    "\n",
    "\n",
    "# Show the plot\n",
    "plt.show()"
   ]
  },
  {
   "cell_type": "code",
   "execution_count": null,
   "id": "3886619c",
   "metadata": {},
   "outputs": [],
   "source": [
    "import matplotlib.pyplot as plt\n",
    "# Sort the results in descending order\n",
    "remote_work_ratio_sorted = remote_work_ratio.sort_values(ascending=False)\n",
    "\n",
    "# Create a color list\n",
    "colors = ['red' if ratio == 0 else 'orange' if 0 < ratio < 50 else 'green' if ratio == 50 else 'lightseagreen' if 50 <= ratio < 100 else 'blue' if ratio == 100 else 'black' for ratio in remote_work_ratio_sorted.values]\n",
    "\n",
    "# Create a scatter plot\n",
    "fig, ax = plt.subplots(figsize=(12, 10))\n",
    "ax.scatter(remote_work_ratio_sorted.values, remote_work_ratio_sorted.index, color=colors)\n",
    "\n",
    "# Set the title and labels\n",
    "ax.set_title('Remote Work Ratio by Job Title')\n",
    "ax.set_xlabel('Remote Work Ratio (%)')\n",
    "ax.set_ylabel('Job Title')\n",
    "plt.text(0, 0.05, '0 No remote work (less than 20%) \\n50 Partially remote \\n100 Fully remote (more than 80%)', transform=plt.gca().transAxes, fontsize=10, verticalalignment='bottom')\n",
    "\n",
    "# Show the plot\n",
    "plt.show()"
   ]
  },
  {
   "cell_type": "code",
   "execution_count": null,
   "id": "e180d1b1",
   "metadata": {},
   "outputs": [],
   "source": [
    "# Calculate the mean remote work ratio by job title\n",
    "remote_work_ratio_by_company = df.groupby('company_size')['remote_ratio'].mean()\n",
    "\n",
    "# Sort the results in descending order\n",
    "remote_work_ratio_by_company_sorted = remote_work_ratio_by_company.sort_values(ascending=False)\n",
    "\n",
    "# Print the results\n",
    "print(remote_work_ratio_by_company_sorted)\n",
    "\n",
    "#plot a graph\n",
    "# Create a stem plot of the mean remote work ratio by job title\n",
    "plt.stem(remote_work_ratio_by_company)\n",
    "\n",
    "\n",
    "\n",
    "plt.xlabel('Company size')\n",
    "plt.xticks([0, 1, 2], ['S', 'M', 'L'])\n",
    "plt.ylabel('Mean Remote Work Ratio')\n",
    "plt.title('Mean Remote Work Ratio by Company Size')\n",
    "plt.ylim(65,75)\n",
    "plt.show()"
   ]
  },
  {
   "cell_type": "code",
   "execution_count": null,
   "id": "35e6fb31",
   "metadata": {},
   "outputs": [],
   "source": [
    "# Convert the 'work_year' column to a datetime object\n",
    "#df['work_year'] = pd.to_datetime(df['work_year'])\n",
    "df['work_year'] = pd.to_datetime(df['work_year'].astype(str), format='%Y')\n",
    "# Calculate the annual average salary in USD\n",
    "annual_avg_salary = df.groupby(df['work_year'].dt.year)['salary_in_usd'].mean()\n",
    "\n",
    "\n",
    "# Format the yearly dates\n",
    "yearly_dates = [pd.Period(year=year, freq='A') for year in annual_avg_salary.index]\n",
    "yearly_dates_formatted = [date.strftime('%Y') for date in yearly_dates]\n",
    "\n",
    "# Plot the trend of annual average salary\n",
    "plt.plot(yearly_dates_formatted, annual_avg_salary.values)\n",
    "\n",
    "# Add axis labels and title\n",
    "plt.xlabel('Year')\n",
    "plt.ylabel('Annual Average Salary (USD)')\n",
    "plt.title('Trend of Annual Average Salary')\n",
    "\n",
    "\n",
    "\n",
    "\n",
    "# Calculate the YoY change for each year\n",
    "yoy_change = annual_avg_salary.pct_change()\n",
    "yoy_change_formatted = yoy_change[1:].map(lambda x: f\"{x:.2%}\")\n",
    "print(yoy_change_formatted)\n",
    "\n",
    "\n",
    "# Show the plot\n",
    "plt.show()"
   ]
  },
  {
   "cell_type": "code",
   "execution_count": null,
   "id": "67936dbb",
   "metadata": {},
   "outputs": [],
   "source": [
    "# Group the data by job_title and year, and calculate the average salary for each group\n",
    "avg_salary_by_job_year = df.groupby(['job_title', df['work_year'].dt.year])['salary_in_usd'].mean()\n",
    "\n",
    "# Calculate the YoY percentage change for each job_title\n",
    "yoy_salary_change_by_job = avg_salary_by_job_year.groupby('job_title').pct_change(periods=1)\n",
    "\n",
    "# Drop missing values\n",
    "yoy_salary_change_by_job = yoy_salary_change_by_job.dropna()\n",
    "\n",
    "# Find the job_title with the highest YoY percentage change\n",
    "highest_yoy_jobs = yoy_salary_change_by_job.groupby('job_title').max().nlargest(10)\n",
    "\n",
    "# Print the result\n",
    "print(f\"The top 3 job titles with the highest YoY percentage change are:\\n{highest_yoy_jobs}\")"
   ]
  },
  {
   "cell_type": "code",
   "execution_count": null,
   "id": "459ca6ff",
   "metadata": {},
   "outputs": [],
   "source": [
    "avg_salary_by_job_exp = df.groupby(['job_title', 'experience_level'])['salary_in_usd'].mean()\n",
    "print(avg_salary_by_job_exp)\n",
    "\n"
   ]
  },
  {
   "cell_type": "code",
   "execution_count": null,
   "id": "0df1ac08",
   "metadata": {},
   "outputs": [],
   "source": [
    "# Reset index to make job_title a regular column\n",
    "avg_salary_by_job_exp = avg_salary_by_job_exp.reset_index()\n",
    "\n",
    "# Pivot the table to prepare for plotting\n",
    "pivoted_data = avg_salary_by_job_exp.pivot(index='job_title', columns='experience_level', values='salary_in_usd')\n",
    "\n",
    "# Reorder the columns\n",
    "pivoted_data = pivoted_data[['EN', 'MI', 'SE', 'EX']] \n",
    "\n",
    "# Plot a stacked bar chart\n",
    "pivoted_data.plot(kind='bar', stacked=True, figsize=(18,10))\n",
    "plt.xticks(rotation=45, ha='right')\n",
    "plt.xlabel('Job Title')\n",
    "plt.ylabel('Average Salary (USD)')\n",
    "plt.title('Average Salary by Job Title and Experience Level')\n",
    "plt.show()"
   ]
  },
  {
   "cell_type": "code",
   "execution_count": null,
   "id": "3338846d",
   "metadata": {},
   "outputs": [],
   "source": []
  }
 ],
 "metadata": {
  "kernelspec": {
   "display_name": "Python 3 (ipykernel)",
   "language": "python",
   "name": "python3"
  },
  "language_info": {
   "codemirror_mode": {
    "name": "ipython",
    "version": 3
   },
   "file_extension": ".py",
   "mimetype": "text/x-python",
   "name": "python",
   "nbconvert_exporter": "python",
   "pygments_lexer": "ipython3",
   "version": "3.9.13"
  }
 },
 "nbformat": 4,
 "nbformat_minor": 5
}
